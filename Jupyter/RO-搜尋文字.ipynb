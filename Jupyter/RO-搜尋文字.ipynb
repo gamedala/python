{
 "cells": [
  {
   "cell_type": "code",
   "execution_count": 2,
   "metadata": {},
   "outputs": [
    {
     "ename": "com_error",
     "evalue": "(-2147221005, '無效的類別字串', None, None)",
     "output_type": "error",
     "traceback": [
      "\u001b[1;31m---------------------------------------------------------------------------\u001b[0m",
      "\u001b[1;31mcom_error\u001b[0m                                 Traceback (most recent call last)",
      "File \u001b[1;32mc:\\Users\\BOB\\AppData\\Local\\Programs\\Python\\Python38-32\\lib\\site-packages\\win32com\\client\\dynamic.py:84\u001b[0m, in \u001b[0;36m_GetGoodDispatch\u001b[1;34m(IDispatch, clsctx)\u001b[0m\n\u001b[0;32m     83\u001b[0m \u001b[38;5;28;01mtry\u001b[39;00m:\n\u001b[1;32m---> 84\u001b[0m     IDispatch \u001b[38;5;241m=\u001b[39m \u001b[43mpythoncom\u001b[49m\u001b[38;5;241;43m.\u001b[39;49m\u001b[43mconnect\u001b[49m\u001b[43m(\u001b[49m\u001b[43mIDispatch\u001b[49m\u001b[43m)\u001b[49m\n\u001b[0;32m     85\u001b[0m \u001b[38;5;28;01mexcept\u001b[39;00m pythoncom\u001b[38;5;241m.\u001b[39mole_error:\n",
      "\u001b[1;31mcom_error\u001b[0m: (-2147221005, '無效的類別字串', None, None)",
      "\nDuring handling of the above exception, another exception occurred:\n",
      "\u001b[1;31mcom_error\u001b[0m                                 Traceback (most recent call last)",
      "Cell \u001b[1;32mIn[2], line 10\u001b[0m, in \u001b[0;36mOperation.__init__\u001b[1;34m(self)\u001b[0m\n\u001b[0;32m      9\u001b[0m \u001b[38;5;28;01mtry\u001b[39;00m:\n\u001b[1;32m---> 10\u001b[0m     \u001b[38;5;28mself\u001b[39m\u001b[38;5;241m.\u001b[39mdm \u001b[38;5;241m=\u001b[39m \u001b[43mDispatch\u001b[49m\u001b[43m(\u001b[49m\u001b[38;5;124;43m'\u001b[39;49m\u001b[38;5;124;43mdm.dmsoft\u001b[39;49m\u001b[38;5;124;43m'\u001b[39;49m\u001b[43m)\u001b[49m\n\u001b[0;32m     11\u001b[0m \u001b[38;5;28;01mexcept\u001b[39;00m \u001b[38;5;167;01mException\u001b[39;00m:\n",
      "File \u001b[1;32mc:\\Users\\BOB\\AppData\\Local\\Programs\\Python\\Python38-32\\lib\\site-packages\\win32com\\client\\__init__.py:118\u001b[0m, in \u001b[0;36mDispatch\u001b[1;34m(dispatch, userName, resultCLSID, typeinfo, UnicodeToString, clsctx)\u001b[0m\n\u001b[0;32m    117\u001b[0m \u001b[38;5;28;01massert\u001b[39;00m UnicodeToString \u001b[38;5;129;01mis\u001b[39;00m \u001b[38;5;28;01mNone\u001b[39;00m, \u001b[38;5;124m\"\u001b[39m\u001b[38;5;124mthis is deprecated and will go away\u001b[39m\u001b[38;5;124m\"\u001b[39m\n\u001b[1;32m--> 118\u001b[0m dispatch, userName \u001b[38;5;241m=\u001b[39m \u001b[43mdynamic\u001b[49m\u001b[38;5;241;43m.\u001b[39;49m\u001b[43m_GetGoodDispatchAndUserName\u001b[49m\u001b[43m(\u001b[49m\u001b[43mdispatch\u001b[49m\u001b[43m,\u001b[49m\u001b[43m \u001b[49m\u001b[43muserName\u001b[49m\u001b[43m,\u001b[49m\u001b[43m \u001b[49m\u001b[43mclsctx\u001b[49m\u001b[43m)\u001b[49m\n\u001b[0;32m    119\u001b[0m \u001b[38;5;28;01mreturn\u001b[39;00m __WrapDispatch(dispatch, userName, resultCLSID, typeinfo, clsctx\u001b[38;5;241m=\u001b[39mclsctx)\n",
      "File \u001b[1;32mc:\\Users\\BOB\\AppData\\Local\\Programs\\Python\\Python38-32\\lib\\site-packages\\win32com\\client\\dynamic.py:104\u001b[0m, in \u001b[0;36m_GetGoodDispatchAndUserName\u001b[1;34m(IDispatch, userName, clsctx)\u001b[0m\n\u001b[0;32m    103\u001b[0m     userName \u001b[38;5;241m=\u001b[39m \u001b[38;5;28mstr\u001b[39m(userName)\n\u001b[1;32m--> 104\u001b[0m \u001b[38;5;28;01mreturn\u001b[39;00m (\u001b[43m_GetGoodDispatch\u001b[49m\u001b[43m(\u001b[49m\u001b[43mIDispatch\u001b[49m\u001b[43m,\u001b[49m\u001b[43m \u001b[49m\u001b[43mclsctx\u001b[49m\u001b[43m)\u001b[49m, userName)\n",
      "File \u001b[1;32mc:\\Users\\BOB\\AppData\\Local\\Programs\\Python\\Python38-32\\lib\\site-packages\\win32com\\client\\dynamic.py:86\u001b[0m, in \u001b[0;36m_GetGoodDispatch\u001b[1;34m(IDispatch, clsctx)\u001b[0m\n\u001b[0;32m     85\u001b[0m     \u001b[38;5;28;01mexcept\u001b[39;00m pythoncom\u001b[38;5;241m.\u001b[39mole_error:\n\u001b[1;32m---> 86\u001b[0m         IDispatch \u001b[38;5;241m=\u001b[39m \u001b[43mpythoncom\u001b[49m\u001b[38;5;241;43m.\u001b[39;49m\u001b[43mCoCreateInstance\u001b[49m\u001b[43m(\u001b[49m\n\u001b[0;32m     87\u001b[0m \u001b[43m            \u001b[49m\u001b[43mIDispatch\u001b[49m\u001b[43m,\u001b[49m\u001b[43m \u001b[49m\u001b[38;5;28;43;01mNone\u001b[39;49;00m\u001b[43m,\u001b[49m\u001b[43m \u001b[49m\u001b[43mclsctx\u001b[49m\u001b[43m,\u001b[49m\u001b[43m \u001b[49m\u001b[43mpythoncom\u001b[49m\u001b[38;5;241;43m.\u001b[39;49m\u001b[43mIID_IDispatch\u001b[49m\n\u001b[0;32m     88\u001b[0m \u001b[43m        \u001b[49m\u001b[43m)\u001b[49m\n\u001b[0;32m     89\u001b[0m \u001b[38;5;28;01melse\u001b[39;00m:\n\u001b[0;32m     90\u001b[0m     \u001b[38;5;66;03m# may already be a wrapped class.\u001b[39;00m\n",
      "\u001b[1;31mcom_error\u001b[0m: (-2147221005, '無效的類別字串', None, None)",
      "\nDuring handling of the above exception, another exception occurred:\n",
      "\u001b[1;31mcom_error\u001b[0m                                 Traceback (most recent call last)",
      "File \u001b[1;32mc:\\Users\\BOB\\AppData\\Local\\Programs\\Python\\Python38-32\\lib\\site-packages\\win32com\\client\\dynamic.py:84\u001b[0m, in \u001b[0;36m_GetGoodDispatch\u001b[1;34m(IDispatch, clsctx)\u001b[0m\n\u001b[0;32m     83\u001b[0m \u001b[38;5;28;01mtry\u001b[39;00m:\n\u001b[1;32m---> 84\u001b[0m     IDispatch \u001b[38;5;241m=\u001b[39m \u001b[43mpythoncom\u001b[49m\u001b[38;5;241;43m.\u001b[39;49m\u001b[43mconnect\u001b[49m\u001b[43m(\u001b[49m\u001b[43mIDispatch\u001b[49m\u001b[43m)\u001b[49m\n\u001b[0;32m     85\u001b[0m \u001b[38;5;28;01mexcept\u001b[39;00m pythoncom\u001b[38;5;241m.\u001b[39mole_error:\n",
      "\u001b[1;31mcom_error\u001b[0m: (-2147221005, '無效的類別字串', None, None)",
      "\nDuring handling of the above exception, another exception occurred:\n",
      "\u001b[1;31mcom_error\u001b[0m                                 Traceback (most recent call last)",
      "Cell \u001b[1;32mIn[2], line 44\u001b[0m\n\u001b[0;32m     40\u001b[0m         \u001b[38;5;66;03m# if not dm_ret[0]:\u001b[39;00m\n\u001b[0;32m     41\u001b[0m         \u001b[38;5;66;03m#     job.dm.MoveTo(dm_ret[1], dm_ret[2])\u001b[39;00m\n\u001b[0;32m     42\u001b[0m         \u001b[38;5;28;01mreturn\u001b[39;00m dm_ret\n\u001b[1;32m---> 44\u001b[0m job \u001b[38;5;241m=\u001b[39m \u001b[43mOperation\u001b[49m\u001b[43m(\u001b[49m\u001b[43m)\u001b[49m \u001b[38;5;66;03m# 註冊插件\u001b[39;00m\n",
      "Cell \u001b[1;32mIn[2], line 13\u001b[0m, in \u001b[0;36mOperation.__init__\u001b[1;34m(self)\u001b[0m\n\u001b[0;32m     11\u001b[0m \u001b[38;5;28;01mexcept\u001b[39;00m \u001b[38;5;167;01mException\u001b[39;00m:\n\u001b[0;32m     12\u001b[0m     os\u001b[38;5;241m.\u001b[39msystem(\u001b[38;5;124mr\u001b[39m\u001b[38;5;124m'\u001b[39m\u001b[38;5;124mregsvr32 /s \u001b[39m\u001b[38;5;132;01m%s\u001b[39;00m\u001b[38;5;124m\\\u001b[39m\u001b[38;5;124mdm.dll\u001b[39m\u001b[38;5;124m'\u001b[39m \u001b[38;5;241m%\u001b[39m os\u001b[38;5;241m.\u001b[39mgetcwd())\n\u001b[1;32m---> 13\u001b[0m     \u001b[38;5;28mself\u001b[39m\u001b[38;5;241m.\u001b[39mdm \u001b[38;5;241m=\u001b[39m \u001b[43mDispatch\u001b[49m\u001b[43m(\u001b[49m\u001b[38;5;124;43m'\u001b[39;49m\u001b[38;5;124;43mdm.dmsoft\u001b[39;49m\u001b[38;5;124;43m'\u001b[39;49m\u001b[43m)\u001b[49m\n\u001b[0;32m     14\u001b[0m \u001b[38;5;28mprint\u001b[39m(\u001b[38;5;124m\"\u001b[39m\u001b[38;5;130;01m\\t\u001b[39;00m\u001b[38;5;124m大漠插件版本: \u001b[39m\u001b[38;5;124m\"\u001b[39m,\u001b[38;5;28mself\u001b[39m\u001b[38;5;241m.\u001b[39mdm\u001b[38;5;241m.\u001b[39mVer())\n\u001b[0;32m     15\u001b[0m \u001b[38;5;28mself\u001b[39m\u001b[38;5;241m.\u001b[39mhwnd \u001b[38;5;241m=\u001b[39m win32gui\u001b[38;5;241m.\u001b[39mFindWindow(\u001b[38;5;28;01mNone\u001b[39;00m,\u001b[38;5;124m\"\u001b[39m\u001b[38;5;124mDragonRo\u001b[39m\u001b[38;5;124m\"\u001b[39m)\n",
      "File \u001b[1;32mc:\\Users\\BOB\\AppData\\Local\\Programs\\Python\\Python38-32\\lib\\site-packages\\win32com\\client\\__init__.py:118\u001b[0m, in \u001b[0;36mDispatch\u001b[1;34m(dispatch, userName, resultCLSID, typeinfo, UnicodeToString, clsctx)\u001b[0m\n\u001b[0;32m    116\u001b[0m \u001b[38;5;250m\u001b[39m\u001b[38;5;124;03m\"\"\"Creates a Dispatch based COM object.\"\"\"\u001b[39;00m\n\u001b[0;32m    117\u001b[0m \u001b[38;5;28;01massert\u001b[39;00m UnicodeToString \u001b[38;5;129;01mis\u001b[39;00m \u001b[38;5;28;01mNone\u001b[39;00m, \u001b[38;5;124m\"\u001b[39m\u001b[38;5;124mthis is deprecated and will go away\u001b[39m\u001b[38;5;124m\"\u001b[39m\n\u001b[1;32m--> 118\u001b[0m dispatch, userName \u001b[38;5;241m=\u001b[39m \u001b[43mdynamic\u001b[49m\u001b[38;5;241;43m.\u001b[39;49m\u001b[43m_GetGoodDispatchAndUserName\u001b[49m\u001b[43m(\u001b[49m\u001b[43mdispatch\u001b[49m\u001b[43m,\u001b[49m\u001b[43m \u001b[49m\u001b[43muserName\u001b[49m\u001b[43m,\u001b[49m\u001b[43m \u001b[49m\u001b[43mclsctx\u001b[49m\u001b[43m)\u001b[49m\n\u001b[0;32m    119\u001b[0m \u001b[38;5;28;01mreturn\u001b[39;00m __WrapDispatch(dispatch, userName, resultCLSID, typeinfo, clsctx\u001b[38;5;241m=\u001b[39mclsctx)\n",
      "File \u001b[1;32mc:\\Users\\BOB\\AppData\\Local\\Programs\\Python\\Python38-32\\lib\\site-packages\\win32com\\client\\dynamic.py:104\u001b[0m, in \u001b[0;36m_GetGoodDispatchAndUserName\u001b[1;34m(IDispatch, userName, clsctx)\u001b[0m\n\u001b[0;32m    101\u001b[0m     \u001b[38;5;66;03m## ??? else userName remains None ???\u001b[39;00m\n\u001b[0;32m    102\u001b[0m \u001b[38;5;28;01melse\u001b[39;00m:\n\u001b[0;32m    103\u001b[0m     userName \u001b[38;5;241m=\u001b[39m \u001b[38;5;28mstr\u001b[39m(userName)\n\u001b[1;32m--> 104\u001b[0m \u001b[38;5;28;01mreturn\u001b[39;00m (\u001b[43m_GetGoodDispatch\u001b[49m\u001b[43m(\u001b[49m\u001b[43mIDispatch\u001b[49m\u001b[43m,\u001b[49m\u001b[43m \u001b[49m\u001b[43mclsctx\u001b[49m\u001b[43m)\u001b[49m, userName)\n",
      "File \u001b[1;32mc:\\Users\\BOB\\AppData\\Local\\Programs\\Python\\Python38-32\\lib\\site-packages\\win32com\\client\\dynamic.py:86\u001b[0m, in \u001b[0;36m_GetGoodDispatch\u001b[1;34m(IDispatch, clsctx)\u001b[0m\n\u001b[0;32m     84\u001b[0m         IDispatch \u001b[38;5;241m=\u001b[39m pythoncom\u001b[38;5;241m.\u001b[39mconnect(IDispatch)\n\u001b[0;32m     85\u001b[0m     \u001b[38;5;28;01mexcept\u001b[39;00m pythoncom\u001b[38;5;241m.\u001b[39mole_error:\n\u001b[1;32m---> 86\u001b[0m         IDispatch \u001b[38;5;241m=\u001b[39m \u001b[43mpythoncom\u001b[49m\u001b[38;5;241;43m.\u001b[39;49m\u001b[43mCoCreateInstance\u001b[49m\u001b[43m(\u001b[49m\n\u001b[0;32m     87\u001b[0m \u001b[43m            \u001b[49m\u001b[43mIDispatch\u001b[49m\u001b[43m,\u001b[49m\u001b[43m \u001b[49m\u001b[38;5;28;43;01mNone\u001b[39;49;00m\u001b[43m,\u001b[49m\u001b[43m \u001b[49m\u001b[43mclsctx\u001b[49m\u001b[43m,\u001b[49m\u001b[43m \u001b[49m\u001b[43mpythoncom\u001b[49m\u001b[38;5;241;43m.\u001b[39;49m\u001b[43mIID_IDispatch\u001b[49m\n\u001b[0;32m     88\u001b[0m \u001b[43m        \u001b[49m\u001b[43m)\u001b[49m\n\u001b[0;32m     89\u001b[0m \u001b[38;5;28;01melse\u001b[39;00m:\n\u001b[0;32m     90\u001b[0m     \u001b[38;5;66;03m# may already be a wrapped class.\u001b[39;00m\n\u001b[0;32m     91\u001b[0m     IDispatch \u001b[38;5;241m=\u001b[39m \u001b[38;5;28mgetattr\u001b[39m(IDispatch, \u001b[38;5;124m\"\u001b[39m\u001b[38;5;124m_oleobj_\u001b[39m\u001b[38;5;124m\"\u001b[39m, IDispatch)\n",
      "\u001b[1;31mcom_error\u001b[0m: (-2147221005, '無效的類別字串', None, None)"
     ]
    }
   ],
   "source": [
    "from  win32com.client import Dispatch\n",
    "from time import sleep\n",
    "import os,win32gui\n",
    "\n",
    "Path = '光雨'\n",
    "\n",
    "class Operation:\n",
    "    def __init__(self):\n",
    "        try:\n",
    "            self.dm = Dispatch('dm.dmsoft')\n",
    "        except Exception:\n",
    "            os.system(r'regsvr32 /s %s\\dm.dll' % os.getcwd())\n",
    "            self.dm = Dispatch('dm.dmsoft')\n",
    "        print(\"\\t大漠插件版本: \",self.dm.Ver())\n",
    "        self.hwnd = win32gui.FindWindow(None,\"Ragnarok\")\n",
    "        self.path = self.dm.GetBasePath()+Path\n",
    "        self.dm.SetPath(self.path)\n",
    "        print('\\t附件路徑存放: ',self.path)\n",
    "        # dm_ret = self.dm.SetDict(0, \"關鍵字.txt\")\n",
    "        # print('\\t字典返回:'+ str(dm_ret)) # dm_ret類型轉換str\n",
    "        dm_ret = self.dm.BindWindow(self.hwnd,'gdi','dx2','dx',4)\n",
    "        if dm_ret == 1:\n",
    "            print('\\t綁定成功')\n",
    "        else:\n",
    "            print(' 綁定失敗')\n",
    "            quit()\n",
    "            \n",
    "    def 按鍵(self,KEY_ID):\n",
    "        self.dm.keydown(KEY_ID)\n",
    "        self.dm.keyup(KEY_ID)\n",
    "\n",
    "    def 記憶體字串(self,位置):\n",
    "        return self.dm.ReadString(self.hwnd, 位置, 0, 15)\n",
    "    \n",
    "    def 記憶體數值(self,位置):\n",
    "        return self.dm.ReadInt(self.hwnd, 位置, 0)\n",
    "    \n",
    "    def 找字(self,位置,文字,顏色):\n",
    "        dm_ret = self.dm.FindStrWithFont(位置[0],位置[1],位置[2],位置[3],文字,顏色,1.0,\"新細明體\",9,0)\n",
    "        # if not dm_ret[0]:\n",
    "        #     job.dm.MoveTo(dm_ret[1], dm_ret[2])\n",
    "        return dm_ret\n",
    "\n",
    "job = Operation() # 註冊插件"
   ]
  },
  {
   "cell_type": "code",
   "execution_count": 47,
   "metadata": {},
   "outputs": [
    {
     "name": "stdout",
     "output_type": "stream",
     "text": [
      "(-1, -1, -1)\n",
      "(0, 120, 294)\n"
     ]
    }
   ],
   "source": [
    "print(job.找字([0,0,1024,768],'卡片','000000-000000'))\n",
    "print(job.找字([0,0,1024,768],'物品欄','000000-000000'))"
   ]
  }
 ],
 "metadata": {
  "kernelspec": {
   "display_name": "Python 3.9.10 32-bit",
   "language": "python",
   "name": "python3"
  },
  "language_info": {
   "codemirror_mode": {
    "name": "ipython",
    "version": 3
   },
   "file_extension": ".py",
   "mimetype": "text/x-python",
   "name": "python",
   "nbconvert_exporter": "python",
   "pygments_lexer": "ipython3",
   "version": "3.8.7"
  },
  "orig_nbformat": 4,
  "vscode": {
   "interpreter": {
    "hash": "4c9bbedd6577c96063628bce09b4f60072fe544b1fef5a34c62d8109085c9bf8"
   }
  }
 },
 "nbformat": 4,
 "nbformat_minor": 2
}
