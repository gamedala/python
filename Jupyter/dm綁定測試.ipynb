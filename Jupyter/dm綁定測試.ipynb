{
 "cells": [
  {
   "cell_type": "code",
   "execution_count": 2,
   "metadata": {},
   "outputs": [
    {
     "name": "stdout",
     "output_type": "stream",
     "text": [
      "附件路徑存放:  c:\\dm\\Astral-Tale\n",
      "創建指定目錄:  1\n",
      "插件版本:3.1233\n",
      "尋找到窗口句柄[4789056]\n"
     ]
    }
   ],
   "source": [
    "import win32com.client,win32gui\n",
    "import time\n",
    "dm = win32com.client.Dispatch('dm.dmsoft')\n",
    "window_info = {\"title\": \"Ragnarok\", \"class_name\": \"\"} # 搜尋 標題 類名\n",
    "Path =\"Astral-Tale\"\n",
    "path = dm.GetBasePath()+Path\n",
    "dm.SetPath(path)\n",
    "print('附件路徑存放: ', path)\n",
    "dm_ret = dm.CreateFolder(path)\n",
    "if dm_ret :\n",
    "    print('創建指定目錄: ', dm_ret)\n",
    "print('插件版本:'+dm.ver())\n",
    "\n",
    "def find_windows(window_info): # 遍歷 標題 類名\n",
    "    window_handles = [] # 清空\n",
    "    def callback(hwnd, param):\n",
    "        title, class_name = win32gui.GetWindowText(hwnd), win32gui.GetClassName(hwnd)\n",
    "        if window_info[\"title\"] in title and window_info[\"class_name\"] in class_name:\n",
    "            param.append(hwnd)\n",
    "    win32gui.EnumWindows(callback, window_handles)\n",
    "    return window_handles\n",
    "\n",
    "hwnd = find_windows(window_info)\n",
    "print(f\"尋找到窗口句柄{hwnd}\")\n",
    "\n",
    "display_options = [\"gdi\", \"gdi2\", \"dx\", \"dx2\", \"dx3\"] # 屏幕颜色\n",
    "mouse_options = [\"windows\", \"windows2\", \"windows3\", \"dx\", \"dx2\"] # 滑鼠\n",
    "keypad_options = [\"windows\", \"dx\"] # 鍵盤\n",
    "mode_options = [0, 2, 4] # 模式\n",
    "\n",
    "for display in display_options:\n",
    "    displays = \"\"\n",
    "    for mouse in mouse_options:\n",
    "        for keypad in keypad_options:\n",
    "            for mode in mode_options:\n",
    "                dm_ret = dm.BindWindow(hwnd[0], display, mouse, keypad, mode) # 設定綁定\n",
    "                if dm_ret:\n",
    "                    if display != displays :\n",
    "                        dm_ret = dm.Capture(0,0,2000,2000,f\"'{display}'.bmp\") # 截圖\n",
    "                        if dm_ret:\n",
    "                            print(f\"截圖保存成功{display}\")\n",
    "                            displays = display\n",
    "                    dm.MoveTo(100,100)\n",
    "                    mousexy=dm.GetCursorPos()\n",
    "                    dm.MoveTo(0,0)\n",
    "                    if mousexy[1] > 0 and display == displays:\n",
    "                        print(f\"綁定類型{mousexy}({hwnd[0]}, '{display}', '{mouse}', '{keypad}', {mode})\") # 輸出成功綁定資訊\n",
    "\n",
    "                    dm.UnBindWindow() # 解除綁定"
   ]
  }
 ],
 "metadata": {
  "kernelspec": {
   "display_name": "Python 3.9.10 32-bit",
   "language": "python",
   "name": "python3"
  },
  "language_info": {
   "codemirror_mode": {
    "name": "ipython",
    "version": 3
   },
   "file_extension": ".py",
   "mimetype": "text/x-python",
   "name": "python",
   "nbconvert_exporter": "python",
   "pygments_lexer": "ipython3",
   "version": "3.8.7"
  },
  "orig_nbformat": 4,
  "vscode": {
   "interpreter": {
    "hash": "4c9bbedd6577c96063628bce09b4f60072fe544b1fef5a34c62d8109085c9bf8"
   }
  }
 },
 "nbformat": 4,
 "nbformat_minor": 2
}
