{
 "cells": [
  {
   "cell_type": "code",
   "execution_count": 16,
   "metadata": {},
   "outputs": [],
   "source": [
    "from selenium import webdriver\n",
    "from selenium.webdriver.common.by import By\n",
    "from selenium.webdriver.common.keys import Keys\n",
    "import time\n",
    "import json\n",
    "\n",
    "# 设置用户名和密码\n",
    "username = \"gamedola2@gmail.com\"\n",
    "password = \"tdemcidue\"\n",
    "\n",
    "# 创建 WebDriver 实例\n",
    "driver = webdriver.Chrome()  # 或 `webdriver.Firefox()`，根据你安装的浏览器驱动选择\n",
    "\n",
    "# 打开 Discord 登录页面\n",
    "driver.get(\"https://discord.com/login\")\n",
    "\n",
    "# 等待页面加载\n",
    "time.sleep(2)\n",
    "\n",
    "# 输入用户名\n",
    "username_input = driver.find_element(By.NAME, \"email\")\n",
    "username_input.send_keys(username)\n",
    "\n",
    "# 输入密码\n",
    "password_input = driver.find_element(By.NAME, \"password\")\n",
    "password_input.send_keys(password)\n",
    "\n",
    "# 提交登录表单\n",
    "password_input.send_keys(Keys.RETURN)\n",
    "\n",
    "# 等待加载（这里可能会触发验证码或安全检查）\n",
    "time.sleep(10)\n",
    "\n",
    "# 检查是否成功登录\n",
    "if \"channels\" in driver.current_url:\n",
    "    print(\"登录成功\")\n",
    "else:\n",
    "    print(\"登录可能失败，检查是否需要验证码\")\n",
    "\n",
    "# 关闭浏览器\n",
    "# driver.quit()\n"
   ]
  },
  {
   "cell_type": "code",
   "execution_count": null,
   "metadata": {},
   "outputs": [],
   "source": [
    "elements = driver.find_elements(By.CLASS_NAME, \"username_f9f2ca\")\n",
    "\n",
    "usernames = set()  # 使用集合自动去重\n",
    "for element in elements:\n",
    "    username = element.text\n",
    "    # 过滤条件：排除以 @ 开头的用户名\n",
    "    # if not username.startswith(\"@\"):\n",
    "    usernames.add(username)\n",
    "\n",
    "# 打印结果\n",
    "for username in usernames:\n",
    "    print(username)"
   ]
  },
  {
   "cell_type": "code",
   "execution_count": null,
   "metadata": {},
   "outputs": [],
   "source": [
    "from datetime import datetime, timedelta\n",
    "messages = driver.find_elements(By.CLASS_NAME, \"contents_f9f2ca\")\n",
    "\n",
    "# 遍历每个消息容器，提取所需信息\n",
    "for message in messages:\n",
    "    try:\n",
    "        # 提取ID\n",
    "        message_id = message.find_element(By.CLASS_NAME, \"header_f9f2ca\").get_attribute(\"aria-labelledby\")\n",
    "\n",
    "        # 提取用户名\n",
    "        username = message.find_element(By.CLASS_NAME, \"username_f9f2ca\").text\n",
    "\n",
    "        # 提取消息时间戳\n",
    "        timestamp_element = message.find_element(By.XPATH, \".//time\")\n",
    "        timestamp = timestamp_element.get_attribute(\"datetime\")\n",
    "        dt = datetime.fromisoformat(timestamp.replace(\"Z\", \"\"))\n",
    "        new_dt = dt + timedelta(hours=8)\n",
    "\n",
    "        # 输出结果\n",
    "        timestamp = new_dt.isoformat()[:-4]  # 转换回字符串格式\n",
    "        timestamp = timestamp.replace(\"T\", \" 時間 \")\n",
    "\n",
    "        # 提取消息内容\n",
    "        content_element = message.find_element(By.CLASS_NAME, \"markup_f8f345\")\n",
    "        content = content_element.text\n",
    "\n",
    "        # 输出信息\n",
    "        # print(f\"ID: {message_id}, 用户名: {username}, 时间: {timestamp}, 内容: {content}\")\n",
    "        print(f\"名稱: {username}, {timestamp}, 内容: {content}\")\n",
    "\n",
    "    except Exception as e:\n",
    "        continue"
   ]
  },
  {
   "cell_type": "code",
   "execution_count": 17,
   "metadata": {},
   "outputs": [
    {
     "name": "stdout",
     "output_type": "stream",
     "text": [
      "[{'domain': '.discord.com', 'httpOnly': True, 'name': '_cfuvid', 'path': '/', 'sameSite': 'None', 'secure': True, 'value': 'ANrtP1HFmVD.t.lyAt4LA5EkVZy9wsB21poyPjrTon4-1730279907734-0.0.1.1-604800000'}, {'domain': '.discord.com', 'httpOnly': True, 'name': '__cfruid', 'path': '/', 'sameSite': 'None', 'secure': True, 'value': '02284a1a7aadee746eb0c0356abcf463ba2dd5e7-1730279907'}, {'domain': '.discord.com', 'expiry': 1761815908, 'httpOnly': True, 'name': 'cf_clearance', 'path': '/', 'sameSite': 'None', 'secure': True, 'value': 'Iie28u4zbkgnXkzHFMMqRDoUP2Vq.wQfKIig9ETKAFo-1730279908-1.2.1.1-3EoRhcHayNEGA0kXTAG77_nqrxg1cfL40qpBmhYR5Wi33GFMNtfZmMd.r7orN9icUtPv5uJ5jOhn0T16eu_gYhbib.9Ofw8RNpcDEYC84bDPliUrYSeiO91Q7MFeMwZV1_.Zt_b5cR2.0LzyX4.v7KYfg94ogDwusb7lOreRgtnwBH_7N0x4vw.ZS_VzwtPpUbBJwcIx.xAL7M7.bm3jZ1xZHYbyMgsHXh5CRIRu4NxRUX8Y8GKVNUqdWqyt2d37yMTBnoP3.KzFPnP4S6SkHaCFMFq8WmAPjFH3tuisEEHMuIFnqw85Zw5zqJ0_H3O26QoyGIgTm2eXwXgDTdjQUN9peMmlSooh9YLnWqk0ONe1P0CKMKK5u_zwRIOHCtha'}, {'domain': 'discord.com', 'expiry': 1764839907, 'httpOnly': True, 'name': '__sdcfduid', 'path': '/', 'sameSite': 'Lax', 'secure': True, 'value': 'ec13ba82969f11efb18f7a29b415a8b8643eace570ed4b459ca73f005ec3fc958efc94a57bd8ef5792d60f9898a7da15'}, {'domain': 'discord.com', 'expiry': 1764839907, 'httpOnly': True, 'name': '__dcfduid', 'path': '/', 'sameSite': 'Lax', 'secure': True, 'value': 'ec13ba82969f11efb18f7a29b415a8b8'}]\n"
     ]
    }
   ],
   "source": [
    "import json\n",
    "cookies = driver.get_cookies()\n",
    "print(cookies)\n",
    "with open(\"discord_cookies.json\", \"w\") as file:\n",
    "    json.dump(cookies, file)"
   ]
  },
  {
   "cell_type": "code",
   "execution_count": 18,
   "metadata": {},
   "outputs": [],
   "source": [
    "import json\n",
    "with open(\"discord_cookies.json\", \"r\") as file:\n",
    "    cookies = json.load(file)\n",
    "    for cookie in cookies:\n",
    "        driver.add_cookie(cookie)"
   ]
  }
 ],
 "metadata": {
  "kernelspec": {
   "display_name": "Python 3",
   "language": "python",
   "name": "python3"
  },
  "language_info": {
   "codemirror_mode": {
    "name": "ipython",
    "version": 3
   },
   "file_extension": ".py",
   "mimetype": "text/x-python",
   "name": "python",
   "nbconvert_exporter": "python",
   "pygments_lexer": "ipython3",
   "version": "3.8.7"
  }
 },
 "nbformat": 4,
 "nbformat_minor": 2
}
