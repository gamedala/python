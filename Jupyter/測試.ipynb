{
 "cells": [
  {
   "cell_type": "code",
   "execution_count": null,
   "metadata": {},
   "outputs": [],
   "source": [
    "prstr = \"簡單\",\"普通\",\"困難\",\"地獄\"\n",
    "print(prstr)\n",
    "print(prstr[1])\n",
    "for i in range(len(prstr)):\n",
    "    print(f'{prstr[i]}{i}')"
   ]
  },
  {
   "cell_type": "code",
   "execution_count": null,
   "metadata": {},
   "outputs": [],
   "source": [
    "import json\n",
    "# 讀取 JSON 檔案\n",
    "with open('time_points.json', 'r', encoding='utf-8') as file:\n",
    "    data = json.load(file)\n",
    "\n",
    "# 指定讀取的部分\n",
    "def read_section(section_name):\n",
    "    if section_name in data:\n",
    "        return data[section_name]\n",
    "    else:\n",
    "        return f\"Section {section_name} not found.\"\n",
    "\n",
    "# 指定要讀取 AUTO 或 BSPQ\n",
    "section = 'BSPQ'  # 或 'BSPQ'\n",
    "section_data = read_section(section)\n",
    "\n",
    "print(section_data)\n"
   ]
  },
  {
   "cell_type": "code",
   "execution_count": null,
   "metadata": {},
   "outputs": [],
   "source": [
    "script_map = {\n",
    "    \"A鍵打王\": 1,\n",
    "    \"X鍵打王\": 2,\n",
    "    \"掛機打怪\": 3,\n",
    "    \"SAO\": 4,\n",
    "    \"BS簡易\": 5,\n",
    "    \"BS普通\": 6,\n",
    "    \"BS困難\": 7,\n",
    "    \"BS地獄\": 8\n",
    "}\n",
    "\n",
    "print(script_map[\"SAO\"])"
   ]
  },
  {
   "cell_type": "code",
   "execution_count": null,
   "metadata": {},
   "outputs": [],
   "source": [
    "\n",
    "from time import time_ns\n",
    "import time\n",
    "astr = \"2dvhgs\"\n",
    "for a in list(astr):\n",
    "\n",
    "    print(time_ns())"
   ]
  },
  {
   "cell_type": "code",
   "execution_count": null,
   "metadata": {},
   "outputs": [],
   "source": [
    "道館名稱 = [\"1\",\"2\",\"3\"]\n",
    "for i in range(3):\n",
    "    print(f'{i} - {道館名稱[i]}')"
   ]
  },
  {
   "cell_type": "code",
   "execution_count": null,
   "metadata": {},
   "outputs": [],
   "source": [
    "道館名稱 = [\"1\",\"2\",\"3\"]\n",
    "sty = [i for i in 道館名稱 if i == \"1\" ]\n",
    "print(f'{i} - {sty}')"
   ]
  },
  {
   "cell_type": "code",
   "execution_count": null,
   "metadata": {},
   "outputs": [],
   "source": [
    "import win32gui\n",
    "import win32con\n",
    "window_id = win32gui.FindWindow(None, 'Ragnarok') # 獲取窗口句柄\n",
    "print(window_id)\n",
    "def send_enter(key, hwnd=None):\n",
    "    win32gui.SendMessage(hwnd, win32con.WM_KEYDOWN, key, 0)\n",
    "    win32gui.SendMessage(hwnd, win32con.WM_KEYUP, key, 0)\n",
    "\n",
    "for key in [114,115,116]:\n",
    "    send_enter(key,window_id)"
   ]
  },
  {
   "cell_type": "code",
   "execution_count": null,
   "metadata": {},
   "outputs": [],
   "source": [
    "\n",
    "淬體位置 = ['右手','左手','肩膀','雙腿','軀體','左飾','右飾','靈智','六根','天命']\n",
    "淬體排除 = ['右手','左手','肩膀','雙腿']\n",
    "粹體次數 = 0\n",
    "\n",
    "for _ in list(淬體位置):\n",
    "    print(粹體次數)\n",
    "    淬體 = 1\n",
    "    while 淬體 != 0:\n",
    "        淬體 = 1 if 淬體位置[粹體次數] in 淬體排除 else 0\n",
    "        print(淬體)\n",
    "        粹體次數 += 1"
   ]
  },
  {
   "cell_type": "code",
   "execution_count": null,
   "metadata": {},
   "outputs": [],
   "source": [
    "def is_fullwidth(char):\n",
    "    \"\"\"\n",
    "    检查字符是否属于特定的 Unicode 范围\n",
    "    \"\"\"\n",
    "    return (\n",
    "        '\\uFF00' <= char <= '\\uFFEF' or  # 全角字符\n",
    "        '\\u4E00' <= char <= '\\u9FFF' or  # 汉字\n",
    "        '\\u3040' <= char <= '\\u309F' or  # 平假名\n",
    "        '\\u30A0' <= char <= '\\u30FF' or  # 片假名\n",
    "        '\\u2161' <= char <= '\\u2162' or  # 罗马数字 I、II、III\n",
    "        '\\u1100' <= char <= '\\u115F' or  # 韩文字母\n",
    "        '\\u2E80' <= char <= '\\u2EFF' or  # CJK 部首补充\n",
    "        '\\u2F00' <= char <= '\\u2FDF' or  # CJK 结构\n",
    "        '\\u3000' <= char <= '\\u303F'     # CJK 标点符号\n",
    "    )\n",
    "def check_string(string, length=0):\n",
    "    \"\"\"\n",
    "    補足字串長度 字串,長度\n",
    "    \"\"\"\n",
    "    if length == 0:\n",
    "        return string\n",
    "    ss = sum(1 if is_fullwidth(c) else 0.5 for c in string)\n",
    "    print(ss)\n",
    "    while length > ss:\n",
    "        string += u'　' if length - ss >= 1 else ' '\n",
    "        ss += 1 if length - ss >= 1 else 0.5\n",
    "    return string\n",
    "\n",
    "string = [\"排序 28 武器 +16 克拉斯拿雅劍 (1189)\",\n",
    "\"排序 29 武器 +12 克拉斯拿雅劍 (1189)\",\n",
    "\"排序 30 武器 +4 阿爾卡破魔劍 (1191)\",\n",
    "\"排序 31 武器 +18 P.雙手劍 Ⅱ (1193)\",\n",
    "\"排序 32 武器 +9 P.雙手劍 Ⅱ (1193)\",\n",
    "\"排序 33 武器 +14 鉻合金雙手巨劍 (1196)\",\n",
    "\"排序 34 武器 +5 鉻合金雙手巨劍 (1196)\",\n",
    "\"排序 35 武器 +14 P.雙手劍Ⅲ (1197)\",\n",
    "\"排序 36 武器 +17 白帶魚劍 (1198)\",\n",
    "\"排序 37 武器 +10 白帶魚劍 (1198)\",\n",
    "\"排序 38 武器 +17 秘刃 闇嘯 (1255)\",\n",
    "\"排序 39 武器 +8 骸靈拳刃 (1260)\",\n",
    "\"排序 40 武器 +18 刺殺拳刃 (1266)\",\n",
    "\"排序 41 武器 +16 刺殺拳刃 (1267)\",\n",
    "\"排序 42 武器 +18 屠殺的拳刃 (1279)\",\n",
    "\"排序 43 武器 +1 屠殺的拳刃 (1279)\",\n",
    "\"排序 44 武器 +10 屠殺的拳刃 (1280)\",\n",
    "\"排序 45 武器 +15 勇士血拳刃 (1281)\",\n",
    "\"排序 46 武器 +16 杜爾迦拳刃 (1287)\",\n",
    "\"排序 47 武器 +8 P.拳刃Ⅰ (1289)\",\n",
    "\"排序 48 武器 +17 P.拳刃Ⅰ (1289)\",\n",
    "\"排序 49 武器 +18 戰神秘刃闇嘯 (1293)\",\n",
    "\"排序 50 武器 +7 金斧頭 (1308)\"]\n",
    "\n",
    "for ss in range(0,len(string)):\n",
    "    \n",
    "    print(check_string(string[ss],35)+\"|\")"
   ]
  },
  {
   "cell_type": "code",
   "execution_count": 7,
   "metadata": {},
   "outputs": [
    {
     "name": "stdout",
     "output_type": "stream",
     "text": [
      "('1', '精煉A', '123', '物品A', '1', '詞綴A')\n",
      "('2', '精煉B', '456', '物品B', '2', '詞綴B')\n",
      "('3', '精煉C', '789', '物品C', '3', '詞綴C')\n"
     ]
    }
   ],
   "source": [
    "def search():\n",
    "    \"\"\"\n",
    "    搜尋按鈕\n",
    "    \"\"\"\n",
    "\n",
    "    # 假设这是你的数据列表\n",
    "    data_list = [\n",
    "        {\"name\": \"物品A\", \"values\": (\"1\", \"精煉A\", \"123\", \"物品A\", \"1\", \"詞綴A\")},\n",
    "        {\"name\": \"物品B\", \"values\": (\"2\", \"精煉B\", \"456\", \"物品B\", \"2\", \"詞綴B\")},\n",
    "        {\"name\": \"物品C\", \"values\": (\"3\", \"精煉C\", \"789\", \"物品C\", \"3\", \"詞綴C\")},\n",
    "    ]\n",
    "\n",
    "    # 遍历数据列表并插入到 UI 中\n",
    "    for item in data_list:\n",
    "        print(item[\"values\"])\n",
    "search()"
   ]
  }
 ],
 "metadata": {
  "kernelspec": {
   "display_name": "Python 3",
   "language": "python",
   "name": "python3"
  },
  "language_info": {
   "codemirror_mode": {
    "name": "ipython",
    "version": 3
   },
   "file_extension": ".py",
   "mimetype": "text/x-python",
   "name": "python",
   "nbconvert_exporter": "python",
   "pygments_lexer": "ipython3",
   "version": "3.8.7"
  }
 },
 "nbformat": 4,
 "nbformat_minor": 2
}
