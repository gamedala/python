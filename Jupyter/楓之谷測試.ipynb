{
 "cells": [
  {
   "cell_type": "code",
   "execution_count": 1,
   "metadata": {},
   "outputs": [
    {
     "name": "stdout",
     "output_type": "stream",
     "text": [
      "\t已獲取系統管理員權限\n",
      "\t大漠插件版本:  7.2425\n",
      "\t附件路徑存放:  c:\\dm\\山櫻谷\n",
      "\t字典返回:1\n",
      "\t大漠註冊狀態: \t成功註冊,使用腳本插件需要付費,依照使用時間計價,請勿給他人使用 ^_^y\n",
      "\t綁定成功\n"
     ]
    }
   ],
   "source": [
    "import tkinter as tk\n",
    "import threading\n",
    "import time\n",
    "from win32com.client import Dispatch\n",
    "import os\n",
    "import ctypes\n",
    "import sys\n",
    "import datetime\n",
    "import json\n",
    "from keyboard import add_hotkey\n",
    "\n",
    "Path = '山櫻谷'  # 資料夾名稱\n",
    "dms = ctypes.windll.LoadLibrary('C:/dm/DmReg.dll')\n",
    "\n",
    "def is_admin():  # 檢查是否為系統管理員\n",
    "    try:\n",
    "        return ctypes.windll.shell32.IsUserAnAdmin()\n",
    "    except:\n",
    "        return False\n",
    "\n",
    "def run_as_admin():\n",
    "    if is_admin():\n",
    "        print(\"\\t已獲取系統管理員權限\")\n",
    "    else:\n",
    "        ctypes.windll.shell32.ShellExecuteW(None, \"runas\", sys.executable, __file__, None, 1)\n",
    "    return\n",
    "\n",
    "class TimerApp:\n",
    "    def __init__(self):\n",
    "        dms.SetDllPathW('C:/dm/dm7.dll', 0)  # 設置DM.DLL路徑\n",
    "        self.dm = Dispatch('dm.dmsoft')\n",
    "        print(\"\\t大漠插件版本: \", self.dm.Ver())\n",
    "        self.hwnd = int(self.dm.EnumWindow(0, \"銘心刻谷\", \"MapleStoryClass\", 1 + 2 + 4 + 8 + 16))\n",
    "        self.path = self.dm.GetBasePath() + Path  # 獲取路徑\n",
    "        self.dm.SetPath(self.path)  # 設置路徑\n",
    "        print('\\t附件路徑存放: ', self.path)\n",
    "        dm_ret = self.dm.SetDict(0, \"字典.txt\")  # 設置大漠字典\n",
    "        print('\\t字典返回:' + str(dm_ret))\n",
    "        self.Dm_Reg(\"jv965720b239b8396b1b7df8b768c919e86e10f\", \"jzn0jzb3mpbx8f7\", \"121.204.252.143\")  # 註冊\n",
    "        dm_ret = self.dm.SetWindowState(self.hwnd,12) # 恢復並激活指定窗口\n",
    "        dm_ret = self.dm.BindWindowEx(self.hwnd, \"gdi\", \"dx.mouse.position.lock.api\", \"dx.keypad.input.lock.api|dx.keypad.state.api|dx.keypad.api\", \"dx.public.active.api|dx.public.active.message\", 11)\n",
    "        if dm_ret == 1:\n",
    "            print('\\t綁定成功')\n",
    "        else:\n",
    "            print(' 綁定失敗')\n",
    "            os._exit(0)\n",
    "\n",
    "\n",
    "    def Dm_Reg(self, 註冊碼, 附加, IP):  # 註冊\n",
    "        try:\n",
    "            dm_ret = self.dm.RegEx(註冊碼, 附加, IP)\n",
    "            dm_res = {\n",
    "                -1: \"可能防火牆攔截,如果可以正常訪問大漠插件網站，那就可以肯定是被防火牆攔截\",\n",
    "                -2: \"進程沒有以管理員方式運行\",\n",
    "                0: \"未知錯誤\",\n",
    "                1: \"\\t成功註冊,使用腳本插件需要付費,依照使用時間計價,請勿給他人使用 ^_^y\",\n",
    "                2: \"餘額不足\",\n",
    "                3: \"綁定了本機器，但是賬戶餘額不足50元\",\n",
    "                4: \"註冊碼錯誤\",\n",
    "                5: \"你的機器或者IP在黑名單列表中或者不在白名單列表中\",\n",
    "                6: \"非法使用插件. 一般出現在定制插件時，使用了和綁定的用戶名不同的註冊碼\",\n",
    "                7: \"你的帳號因為非法使用被封禁\",\n",
    "                8: \"ver_info不在你設置的附加白名單中\",\n",
    "                77: \"機器碼或者IP因為非法使用，而被封禁\",\n",
    "                777: \"同一個機器碼註冊次數超過了服務器限制\",\n",
    "                -8: \"版本附加信息長度超過了20\",\n",
    "                -9: \"版本附加信息裡包含了非法字母\",\n",
    "                -10: \"非法的參數ip\"\n",
    "            }\n",
    "            print(f'\\t大漠註冊狀態: {dm_res[dm_ret]}')\n",
    "        except Exception as e:\n",
    "            print(f\"註冊失敗: {e}\")\n",
    "        return\n",
    "\n",
    "\n",
    "if __name__ == \"__main__\":\n",
    "    run_as_admin()\n",
    "    tt = TimerApp()\n"
   ]
  },
  {
   "cell_type": "code",
   "execution_count": 38,
   "metadata": {},
   "outputs": [
    {
     "name": "stdout",
     "output_type": "stream",
     "text": [
      "座標HP 267 座標SP 366\n"
     ]
    },
    {
     "ename": "KeyboardInterrupt",
     "evalue": "",
     "output_type": "error",
     "traceback": [
      "\u001b[1;31m---------------------------------------------------------------------------\u001b[0m",
      "\u001b[1;31mKeyboardInterrupt\u001b[0m                         Traceback (most recent call last)",
      "Cell \u001b[1;32mIn[38], line 11\u001b[0m\n\u001b[0;32m      9\u001b[0m     dm_retSP \u001b[38;5;241m=\u001b[39m tt\u001b[38;5;241m.\u001b[39mdm\u001b[38;5;241m.\u001b[39mCmpColor(座標SP,\u001b[38;5;241m752\u001b[39m,\u001b[38;5;124m\"\u001b[39m\u001b[38;5;124mcccccc-000000\u001b[39m\u001b[38;5;124m\"\u001b[39m,\u001b[38;5;241m1.0\u001b[39m)\n\u001b[0;32m     10\u001b[0m     \u001b[38;5;28;01mif\u001b[39;00m dm_retSP \u001b[38;5;241m==\u001b[39m \u001b[38;5;241m0\u001b[39m:\n\u001b[1;32m---> 11\u001b[0m         \u001b[43mtt\u001b[49m\u001b[38;5;241;43m.\u001b[39;49m\u001b[43mdm\u001b[49m\u001b[38;5;241;43m.\u001b[39;49m\u001b[43mKeyPress\u001b[49m\u001b[43m(\u001b[49m\u001b[38;5;241;43m33\u001b[39;49m\u001b[43m)\u001b[49m\n\u001b[0;32m     12\u001b[0m \u001b[38;5;28mprint\u001b[39m(dm_retHP,dm_retSP)\n",
      "File \u001b[1;32m<COMObject dm.dmsoft>:2\u001b[0m, in \u001b[0;36mKeyPress\u001b[1;34m(self, vk)\u001b[0m\n",
      "\u001b[1;31mKeyboardInterrupt\u001b[0m: "
     ]
    }
   ],
   "source": [
    "\n",
    "座標HP = int(220+(100*50/105))\n",
    "座標SP = int(328+(100*40/105))\n",
    "\n",
    "print(f'座標HP {座標HP} 座標SP {座標SP}')\n",
    "while True:\n",
    "    dm_retHP = tt.dm.CmpColor(座標HP,752,\"cccccc-000000\",1.0)\n",
    "    if dm_retHP == 0:\n",
    "        tt.dm.KeyPress(34)\n",
    "    dm_retSP = tt.dm.CmpColor(座標SP,752,\"cccccc-000000\",1.0)\n",
    "    if dm_retSP == 0:\n",
    "        tt.dm.KeyPress(33)\n",
    "print(dm_retHP,dm_retSP)"
   ]
  }
 ],
 "metadata": {
  "kernelspec": {
   "display_name": "Python 3",
   "language": "python",
   "name": "python3"
  },
  "language_info": {
   "codemirror_mode": {
    "name": "ipython",
    "version": 3
   },
   "file_extension": ".py",
   "mimetype": "text/x-python",
   "name": "python",
   "nbconvert_exporter": "python",
   "pygments_lexer": "ipython3",
   "version": "3.8.7"
  }
 },
 "nbformat": 4,
 "nbformat_minor": 2
}
