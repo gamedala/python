{
 "cells": [],
 "metadata": {
  "kernelspec": {
   "display_name": "Python 3.9.10 32-bit",
   "language": "python",
   "name": "python3"
  },
  "language_info": {
   "codemirror_mode": {
    "name": "ipython",
    "version": 3
   },
   "file_extension": ".py",
   "mimetype": "text/x-python",
   "name": "python",
   "nbconvert_exporter": "python",
   "pygments_lexer": "ipython3",
   "version": "3.9.10"
  },
  "orig_nbformat": 4,
  "vscode": {
   "interpreter": {
    "hash": "4c9bbedd6577c96063628bce09b4f60072fe544b1fef5a34c62d8109085c9bf8"
   }
  }
 },
 "nbformat": 4,
 "nbformat_minor": 2
}
