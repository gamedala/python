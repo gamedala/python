{
 "cells": [
  {
   "cell_type": "code",
   "execution_count": 1,
   "metadata": {},
   "outputs": [],
   "source": [
    "import numpy as np # linear algebra\n",
    "import pandas as pd # data processing, CSV file I/O (e.g. pd.read_csv)\n",
    "import glob \n",
    "import pydicom\n",
    "import matplotlib.pyplot as plt\n",
    "from  scipy import ndimage\n",
    "import scipy\n",
    "from skimage import measure"
   ]
  }
 ],
 "metadata": {
  "kernelspec": {
   "display_name": "Python 3.9.10 64-bit",
   "language": "python",
   "name": "python3"
  },
  "language_info": {
   "codemirror_mode": {
    "name": "ipython",
    "version": 3
   },
   "file_extension": ".py",
   "mimetype": "text/x-python",
   "name": "python",
   "nbconvert_exporter": "python",
   "pygments_lexer": "ipython3",
   "version": "3.9.10"
  },
  "orig_nbformat": 4,
  "vscode": {
   "interpreter": {
    "hash": "5b4d994dc23742b4e91b5545292c60c6fa14aa66ad6789fea25a3f8fd6721cce"
   }
  }
 },
 "nbformat": 4,
 "nbformat_minor": 2
}
