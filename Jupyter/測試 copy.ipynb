{
 "cells": [
  {
   "cell_type": "code",
   "execution_count": 22,
   "metadata": {},
   "outputs": [
    {
     "name": "stdout",
     "output_type": "stream",
     "text": [
      "('簡單', '普通', '困難', '地獄')\n",
      "普通\n",
      "簡單0\n",
      "普通1\n",
      "困難2\n",
      "地獄3\n"
     ]
    }
   ],
   "source": [
    "prstr = \"簡單\",\"普通\",\"困難\",\"地獄\"\n",
    "print(prstr)\n",
    "print(prstr[1])\n",
    "for i in range(len(prstr)):\n",
    "    print(f'{prstr[i]}{i}')"
   ]
  },
  {
   "cell_type": "code",
   "execution_count": 39,
   "metadata": {},
   "outputs": [
    {
     "name": "stdout",
     "output_type": "stream",
     "text": [
      "{'9': [57, 5, 0]}\n"
     ]
    }
   ],
   "source": [
    "import json\n",
    "# 讀取 JSON 檔案\n",
    "with open('time_points.json', 'r', encoding='utf-8') as file:\n",
    "    data = json.load(file)\n",
    "\n",
    "# 指定讀取的部分\n",
    "def read_section(section_name):\n",
    "    if section_name in data:\n",
    "        return data[section_name]\n",
    "    else:\n",
    "        return f\"Section {section_name} not found.\"\n",
    "\n",
    "# 指定要讀取 AUTO 或 BSPQ\n",
    "section = 'BSPQ'  # 或 'BSPQ'\n",
    "section_data = read_section(section)\n",
    "\n",
    "print(section_data)\n"
   ]
  },
  {
   "cell_type": "code",
   "execution_count": 42,
   "metadata": {},
   "outputs": [
    {
     "name": "stdout",
     "output_type": "stream",
     "text": [
      "4\n"
     ]
    }
   ],
   "source": [
    "script_map = {\n",
    "    \"A鍵打王\": 1,\n",
    "    \"X鍵打王\": 2,\n",
    "    \"掛機打怪\": 3,\n",
    "    \"SAO\": 4,\n",
    "    \"BS簡易\": 5,\n",
    "    \"BS普通\": 6,\n",
    "    \"BS困難\": 7,\n",
    "    \"BS地獄\": 8\n",
    "}\n",
    "\n",
    "print(script_map[\"SAO\"])"
   ]
  }
 ],
 "metadata": {
  "kernelspec": {
   "display_name": "Python 3",
   "language": "python",
   "name": "python3"
  },
  "language_info": {
   "codemirror_mode": {
    "name": "ipython",
    "version": 3
   },
   "file_extension": ".py",
   "mimetype": "text/x-python",
   "name": "python",
   "nbconvert_exporter": "python",
   "pygments_lexer": "ipython3",
   "version": "3.8.7"
  }
 },
 "nbformat": 4,
 "nbformat_minor": 2
}
